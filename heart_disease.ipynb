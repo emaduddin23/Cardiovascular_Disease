{
 "cells": [
  {
   "cell_type": "markdown",
   "id": "701243c4-ff3b-4506-8015-572b690bc7cc",
   "metadata": {
    "id": "701243c4-ff3b-4506-8015-572b690bc7cc"
   },
   "source": [
    "# Step 1: Import Libraries"
   ]
  },
  {
   "cell_type": "code",
   "execution_count": 14,
   "id": "13ee6a7e-24f5-4647-8111-cd1d4c25dcfc",
   "metadata": {
    "colab": {
     "base_uri": "https://localhost:8080/"
    },
    "id": "13ee6a7e-24f5-4647-8111-cd1d4c25dcfc",
    "outputId": "ed2670bc-fb70-4c75-ab67-e2019f54d3c3"
   },
   "outputs": [
    {
     "name": "stdout",
     "output_type": "stream",
     "text": [
      "Using device: cpu\n"
     ]
    }
   ],
   "source": [
    "import numpy as np\n",
    "import pandas as pd\n",
    "import matplotlib.pyplot as plt\n",
    "import seaborn as sns\n",
    "import torch\n",
    "\n",
    "from sklearn.model_selection import train_test_split\n",
    "from sklearn.metrics import classification_report, roc_auc_score, precision_score, recall_score, accuracy_score, f1_score, roc_curve, auc\n",
    "from sklearn.linear_model import LogisticRegression\n",
    "from sklearn.ensemble import RandomForestClassifier, AdaBoostClassifier, VotingClassifier, GradientBoostingClassifier, StackingClassifier\n",
    "from sklearn.tree import DecisionTreeClassifier\n",
    "from sklearn.svm import SVC\n",
    "from sklearn.naive_bayes import GaussianNB\n",
    "from sklearn.neighbors import KNeighborsClassifier\n",
    "from xgboost import XGBClassifier\n",
    "from sklearn.preprocessing import LabelEncoder, OneHotEncoder\n",
    "from category_encoders import BinaryEncoder\n",
    "from tqdm import tqdm\n",
    "\n",
    "# Set device\n",
    "device = torch.device(\"cuda\" if torch.cuda.is_available() else \"cpu\")\n",
    "print(f\"Using device: {device}\")"
   ]
  },
  {
   "cell_type": "markdown",
   "id": "bfa9abde-76a0-4861-adcc-5eba3db6b71b",
   "metadata": {
    "id": "bfa9abde-76a0-4861-adcc-5eba3db6b71b"
   },
   "source": [
    "# Step 2: Load and Explore Dataset"
   ]
  },
  {
   "cell_type": "code",
   "execution_count": 15,
   "id": "bdef07ef-5e21-40b9-b3c9-e431c10ab0a3",
   "metadata": {
    "colab": {
     "base_uri": "https://localhost:8080/",
     "height": 1000
    },
    "id": "bdef07ef-5e21-40b9-b3c9-e431c10ab0a3",
    "outputId": "dc1bd67b-04bc-4e76-98f2-3f53355087c1"
   },
   "outputs": [
    {
     "name": "stdout",
     "output_type": "stream",
     "text": [
      "  General_Health Exercise Skin_Cancer Other_Cancer Depression Diabetes  \\\n",
      "0           Poor       No          No           No         No       No   \n",
      "1      Very Good       No          No           No         No      Yes   \n",
      "2      Very Good      Yes          No           No         No      Yes   \n",
      "3           Poor      Yes          No           No         No      Yes   \n",
      "4           Good       No          No           No         No       No   \n",
      "\n",
      "  Arthritis     Sex Age_Category  Height_(cm)  Weight_(kg)    BMI  \\\n",
      "0       Yes  Female        70-74          150        32.66  14.54   \n",
      "1        No  Female        70-74          165        77.11  28.29   \n",
      "2        No  Female        60-64          163        88.45  33.47   \n",
      "3        No    Male        75-79          180        93.44  28.73   \n",
      "4        No    Male          80+          191        88.45  24.37   \n",
      "\n",
      "  Smoking_History  Alcohol_Consumption  Fruit_Consumption  \\\n",
      "0             Yes                    0                 30   \n",
      "1              No                    0                 30   \n",
      "2              No                    4                 12   \n",
      "3              No                    0                 30   \n",
      "4             Yes                    0                  8   \n",
      "\n",
      "   Green_Vegetables_Consumption Cardio_Disease  \n",
      "0                            16             No  \n",
      "1                             0            Yes  \n",
      "2                             3             No  \n",
      "3                            30            Yes  \n",
      "4                             4             No  \n",
      "<class 'pandas.core.frame.DataFrame'>\n",
      "RangeIndex: 308854 entries, 0 to 308853\n",
      "Data columns (total 17 columns):\n",
      " #   Column                        Non-Null Count   Dtype  \n",
      "---  ------                        --------------   -----  \n",
      " 0   General_Health                308854 non-null  object \n",
      " 1   Exercise                      308854 non-null  object \n",
      " 2   Skin_Cancer                   308854 non-null  object \n",
      " 3   Other_Cancer                  308854 non-null  object \n",
      " 4   Depression                    308854 non-null  object \n",
      " 5   Diabetes                      308854 non-null  object \n",
      " 6   Arthritis                     308854 non-null  object \n",
      " 7   Sex                           308854 non-null  object \n",
      " 8   Age_Category                  308854 non-null  object \n",
      " 9   Height_(cm)                   308854 non-null  int64  \n",
      " 10  Weight_(kg)                   308854 non-null  float64\n",
      " 11  BMI                           308854 non-null  float64\n",
      " 12  Smoking_History               308854 non-null  object \n",
      " 13  Alcohol_Consumption           308854 non-null  int64  \n",
      " 14  Fruit_Consumption             308854 non-null  int64  \n",
      " 15  Green_Vegetables_Consumption  308854 non-null  int64  \n",
      " 16  Cardio_Disease                308854 non-null  object \n",
      "dtypes: float64(2), int64(4), object(11)\n",
      "memory usage: 40.1+ MB\n",
      "None\n",
      "General_Health                  0\n",
      "Exercise                        0\n",
      "Skin_Cancer                     0\n",
      "Other_Cancer                    0\n",
      "Depression                      0\n",
      "Diabetes                        0\n",
      "Arthritis                       0\n",
      "Sex                             0\n",
      "Age_Category                    0\n",
      "Height_(cm)                     0\n",
      "Weight_(kg)                     0\n",
      "BMI                             0\n",
      "Smoking_History                 0\n",
      "Alcohol_Consumption             0\n",
      "Fruit_Consumption               0\n",
      "Green_Vegetables_Consumption    0\n",
      "Cardio_Disease                  0\n",
      "dtype: int64\n"
     ]
    }
   ],
   "source": [
    "# Load and Explore Dataset\n",
    "data = pd.read_csv('CVD_dataset.csv')\n",
    "print(data.head())\n",
    "print(data.info())\n",
    "print(data.isnull().sum())\n",
    "# sns.pairplot(data)"
   ]
  },
  {
   "cell_type": "markdown",
   "id": "722fad24-321d-4fc3-93fa-cc2c6f4d3991",
   "metadata": {
    "id": "722fad24-321d-4fc3-93fa-cc2c6f4d3991"
   },
   "source": [
    "# Step 3: Preprocess Data"
   ]
  },
  {
   "cell_type": "code",
   "execution_count": 16,
   "id": "b5148106-3cd9-4f89-9b8b-ad26167c5037",
   "metadata": {
    "id": "b5148106-3cd9-4f89-9b8b-ad26167c5037"
   },
   "outputs": [
    {
     "ename": "AttributeError",
     "evalue": "module 'pandas.api.types' has no attribute 'is_categorical'",
     "output_type": "error",
     "traceback": [
      "\u001b[1;31m---------------------------------------------------------------------------\u001b[0m",
      "\u001b[1;31mAttributeError\u001b[0m                            Traceback (most recent call last)",
      "Cell \u001b[1;32mIn[16], line 19\u001b[0m\n\u001b[0;32m     17\u001b[0m \u001b[38;5;28;01melif\u001b[39;00m data[col]\u001b[38;5;241m.\u001b[39mnunique() \u001b[38;5;241m>\u001b[39m \u001b[38;5;241m10\u001b[39m:  \u001b[38;5;66;03m# Binary Encoding for High Cardinality Features\u001b[39;00m\n\u001b[0;32m     18\u001b[0m     be \u001b[38;5;241m=\u001b[39m BinaryEncoder(cols\u001b[38;5;241m=\u001b[39m[col])\n\u001b[1;32m---> 19\u001b[0m     data \u001b[38;5;241m=\u001b[39m \u001b[43mbe\u001b[49m\u001b[38;5;241;43m.\u001b[39;49m\u001b[43mfit_transform\u001b[49m\u001b[43m(\u001b[49m\u001b[43mdata\u001b[49m\u001b[43m)\u001b[49m\n\u001b[0;32m     20\u001b[0m \u001b[38;5;28;01melse\u001b[39;00m:  \u001b[38;5;66;03m# One-Hot Encoding for Nominal Features\u001b[39;00m\n\u001b[0;32m     21\u001b[0m     ohe \u001b[38;5;241m=\u001b[39m OneHotEncoder(drop\u001b[38;5;241m=\u001b[39m\u001b[38;5;124m'\u001b[39m\u001b[38;5;124mfirst\u001b[39m\u001b[38;5;124m'\u001b[39m, sparse_output\u001b[38;5;241m=\u001b[39m\u001b[38;5;28;01mFalse\u001b[39;00m)\n",
      "File \u001b[1;32mc:\\Users\\emadu\\AppData\\Local\\Programs\\Python\\Python312\\Lib\\site-packages\\sklearn\\utils\\_set_output.py:319\u001b[0m, in \u001b[0;36m_wrap_method_output.<locals>.wrapped\u001b[1;34m(self, X, *args, **kwargs)\u001b[0m\n\u001b[0;32m    317\u001b[0m \u001b[38;5;129m@wraps\u001b[39m(f)\n\u001b[0;32m    318\u001b[0m \u001b[38;5;28;01mdef\u001b[39;00m \u001b[38;5;21mwrapped\u001b[39m(\u001b[38;5;28mself\u001b[39m, X, \u001b[38;5;241m*\u001b[39margs, \u001b[38;5;241m*\u001b[39m\u001b[38;5;241m*\u001b[39mkwargs):\n\u001b[1;32m--> 319\u001b[0m     data_to_wrap \u001b[38;5;241m=\u001b[39m \u001b[43mf\u001b[49m\u001b[43m(\u001b[49m\u001b[38;5;28;43mself\u001b[39;49m\u001b[43m,\u001b[49m\u001b[43m \u001b[49m\u001b[43mX\u001b[49m\u001b[43m,\u001b[49m\u001b[43m \u001b[49m\u001b[38;5;241;43m*\u001b[39;49m\u001b[43margs\u001b[49m\u001b[43m,\u001b[49m\u001b[43m \u001b[49m\u001b[38;5;241;43m*\u001b[39;49m\u001b[38;5;241;43m*\u001b[39;49m\u001b[43mkwargs\u001b[49m\u001b[43m)\u001b[49m\n\u001b[0;32m    320\u001b[0m     \u001b[38;5;28;01mif\u001b[39;00m \u001b[38;5;28misinstance\u001b[39m(data_to_wrap, \u001b[38;5;28mtuple\u001b[39m):\n\u001b[0;32m    321\u001b[0m         \u001b[38;5;66;03m# only wrap the first output for cross decomposition\u001b[39;00m\n\u001b[0;32m    322\u001b[0m         return_tuple \u001b[38;5;241m=\u001b[39m (\n\u001b[0;32m    323\u001b[0m             _wrap_data_with_container(method, data_to_wrap[\u001b[38;5;241m0\u001b[39m], X, \u001b[38;5;28mself\u001b[39m),\n\u001b[0;32m    324\u001b[0m             \u001b[38;5;241m*\u001b[39mdata_to_wrap[\u001b[38;5;241m1\u001b[39m:],\n\u001b[0;32m    325\u001b[0m         )\n",
      "File \u001b[1;32mc:\\Users\\emadu\\AppData\\Local\\Programs\\Python\\Python312\\Lib\\site-packages\\sklearn\\base.py:918\u001b[0m, in \u001b[0;36mTransformerMixin.fit_transform\u001b[1;34m(self, X, y, **fit_params)\u001b[0m\n\u001b[0;32m    903\u001b[0m         warnings\u001b[38;5;241m.\u001b[39mwarn(\n\u001b[0;32m    904\u001b[0m             (\n\u001b[0;32m    905\u001b[0m                 \u001b[38;5;124mf\u001b[39m\u001b[38;5;124m\"\u001b[39m\u001b[38;5;124mThis object (\u001b[39m\u001b[38;5;132;01m{\u001b[39;00m\u001b[38;5;28mself\u001b[39m\u001b[38;5;241m.\u001b[39m\u001b[38;5;18m__class__\u001b[39m\u001b[38;5;241m.\u001b[39m\u001b[38;5;18m__name__\u001b[39m\u001b[38;5;132;01m}\u001b[39;00m\u001b[38;5;124m) has a `transform`\u001b[39m\u001b[38;5;124m\"\u001b[39m\n\u001b[1;32m   (...)\u001b[0m\n\u001b[0;32m    913\u001b[0m             \u001b[38;5;167;01mUserWarning\u001b[39;00m,\n\u001b[0;32m    914\u001b[0m         )\n\u001b[0;32m    916\u001b[0m \u001b[38;5;28;01mif\u001b[39;00m y \u001b[38;5;129;01mis\u001b[39;00m \u001b[38;5;28;01mNone\u001b[39;00m:\n\u001b[0;32m    917\u001b[0m     \u001b[38;5;66;03m# fit method of arity 1 (unsupervised transformation)\u001b[39;00m\n\u001b[1;32m--> 918\u001b[0m     \u001b[38;5;28;01mreturn\u001b[39;00m \u001b[38;5;28;43mself\u001b[39;49m\u001b[38;5;241;43m.\u001b[39;49m\u001b[43mfit\u001b[49m\u001b[43m(\u001b[49m\u001b[43mX\u001b[49m\u001b[43m,\u001b[49m\u001b[43m \u001b[49m\u001b[38;5;241;43m*\u001b[39;49m\u001b[38;5;241;43m*\u001b[39;49m\u001b[43mfit_params\u001b[49m\u001b[43m)\u001b[49m\u001b[38;5;241m.\u001b[39mtransform(X)\n\u001b[0;32m    919\u001b[0m \u001b[38;5;28;01melse\u001b[39;00m:\n\u001b[0;32m    920\u001b[0m     \u001b[38;5;66;03m# fit method of arity 2 (supervised transformation)\u001b[39;00m\n\u001b[0;32m    921\u001b[0m     \u001b[38;5;28;01mreturn\u001b[39;00m \u001b[38;5;28mself\u001b[39m\u001b[38;5;241m.\u001b[39mfit(X, y, \u001b[38;5;241m*\u001b[39m\u001b[38;5;241m*\u001b[39mfit_params)\u001b[38;5;241m.\u001b[39mtransform(X)\n",
      "File \u001b[1;32mc:\\Users\\emadu\\AppData\\Local\\Programs\\Python\\Python312\\Lib\\site-packages\\category_encoders\\binary.py:105\u001b[0m, in \u001b[0;36mBinaryEncoder.fit\u001b[1;34m(self, X, y, **kwargs)\u001b[0m\n\u001b[0;32m     85\u001b[0m \u001b[38;5;28;01mdef\u001b[39;00m \u001b[38;5;21mfit\u001b[39m(\u001b[38;5;28mself\u001b[39m, X, y\u001b[38;5;241m=\u001b[39m\u001b[38;5;28;01mNone\u001b[39;00m, \u001b[38;5;241m*\u001b[39m\u001b[38;5;241m*\u001b[39mkwargs):\n\u001b[0;32m     86\u001b[0m \u001b[38;5;250m    \u001b[39m\u001b[38;5;124;03m\"\"\"Fit encoder according to X and y.\u001b[39;00m\n\u001b[0;32m     87\u001b[0m \n\u001b[0;32m     88\u001b[0m \u001b[38;5;124;03m    Parameters\u001b[39;00m\n\u001b[1;32m   (...)\u001b[0m\n\u001b[0;32m    102\u001b[0m \n\u001b[0;32m    103\u001b[0m \u001b[38;5;124;03m    \"\"\"\u001b[39;00m\n\u001b[1;32m--> 105\u001b[0m     \u001b[38;5;28;43mself\u001b[39;49m\u001b[38;5;241;43m.\u001b[39;49m\u001b[43mbase_n_encoder\u001b[49m\u001b[38;5;241;43m.\u001b[39;49m\u001b[43mfit\u001b[49m\u001b[43m(\u001b[49m\u001b[43mX\u001b[49m\u001b[43m,\u001b[49m\u001b[43m \u001b[49m\u001b[43my\u001b[49m\u001b[43m,\u001b[49m\u001b[43m \u001b[49m\u001b[38;5;241;43m*\u001b[39;49m\u001b[38;5;241;43m*\u001b[39;49m\u001b[43mkwargs\u001b[49m\u001b[43m)\u001b[49m\n\u001b[0;32m    107\u001b[0m     \u001b[38;5;28;01mreturn\u001b[39;00m \u001b[38;5;28mself\u001b[39m\n",
      "File \u001b[1;32mc:\\Users\\emadu\\AppData\\Local\\Programs\\Python\\Python312\\Lib\\site-packages\\category_encoders\\basen.py:125\u001b[0m, in \u001b[0;36mBaseNEncoder.fit\u001b[1;34m(self, X, y, **kwargs)\u001b[0m\n\u001b[0;32m    123\u001b[0m     \u001b[38;5;28mself\u001b[39m\u001b[38;5;241m.\u001b[39mcols \u001b[38;5;241m=\u001b[39m util\u001b[38;5;241m.\u001b[39mget_obj_cols(X)\n\u001b[0;32m    124\u001b[0m \u001b[38;5;28;01melse\u001b[39;00m:\n\u001b[1;32m--> 125\u001b[0m     \u001b[38;5;28mself\u001b[39m\u001b[38;5;241m.\u001b[39mcols \u001b[38;5;241m=\u001b[39m \u001b[43mutil\u001b[49m\u001b[38;5;241;43m.\u001b[39;49m\u001b[43mconvert_cols_to_list\u001b[49m\u001b[43m(\u001b[49m\u001b[38;5;28;43mself\u001b[39;49m\u001b[38;5;241;43m.\u001b[39;49m\u001b[43mcols\u001b[49m\u001b[43m)\u001b[49m\n\u001b[0;32m    127\u001b[0m \u001b[38;5;28;01mif\u001b[39;00m \u001b[38;5;28mself\u001b[39m\u001b[38;5;241m.\u001b[39mhandle_missing \u001b[38;5;241m==\u001b[39m \u001b[38;5;124m'\u001b[39m\u001b[38;5;124merror\u001b[39m\u001b[38;5;124m'\u001b[39m:\n\u001b[0;32m    128\u001b[0m     \u001b[38;5;28;01mif\u001b[39;00m X[\u001b[38;5;28mself\u001b[39m\u001b[38;5;241m.\u001b[39mcols]\u001b[38;5;241m.\u001b[39misnull()\u001b[38;5;241m.\u001b[39many()\u001b[38;5;241m.\u001b[39many():\n",
      "File \u001b[1;32mc:\\Users\\emadu\\AppData\\Local\\Programs\\Python\\Python312\\Lib\\site-packages\\category_encoders\\utils.py:21\u001b[0m, in \u001b[0;36mconvert_cols_to_list\u001b[1;34m(cols)\u001b[0m\n\u001b[0;32m     19\u001b[0m \u001b[38;5;28;01melif\u001b[39;00m \u001b[38;5;28misinstance\u001b[39m(cols, \u001b[38;5;28mtuple\u001b[39m):\n\u001b[0;32m     20\u001b[0m     \u001b[38;5;28;01mreturn\u001b[39;00m \u001b[38;5;28mlist\u001b[39m(cols)\n\u001b[1;32m---> 21\u001b[0m \u001b[38;5;28;01melif\u001b[39;00m \u001b[43mpd\u001b[49m\u001b[38;5;241;43m.\u001b[39;49m\u001b[43mapi\u001b[49m\u001b[38;5;241;43m.\u001b[39;49m\u001b[43mtypes\u001b[49m\u001b[38;5;241;43m.\u001b[39;49m\u001b[43mis_categorical\u001b[49m(cols):\n\u001b[0;32m     22\u001b[0m     \u001b[38;5;28;01mreturn\u001b[39;00m cols\u001b[38;5;241m.\u001b[39mastype(\u001b[38;5;28mobject\u001b[39m)\u001b[38;5;241m.\u001b[39mtolist()\n\u001b[0;32m     24\u001b[0m \u001b[38;5;28;01mreturn\u001b[39;00m cols\n",
      "\u001b[1;31mAttributeError\u001b[0m: module 'pandas.api.types' has no attribute 'is_categorical'"
     ]
    }
   ],
   "source": [
    "# Preprocess Data\n",
    "import pandas as pd\n",
    "data.fillna(data.select_dtypes(include=np.number).mean(), inplace=True)\n",
    "if 'Cardio_Disease' not in data.columns:\n",
    "    raise KeyError(\"The dataset does not contain the 'Cardio_Disease' column. Please verify the dataset.\")\n",
    "\n",
    "# Encode Target Variable\n",
    "y = data['Cardio_Disease'].map({'No': 0, 'Yes': 1})\n",
    "\n",
    "# Encode Categorical Features\n",
    "categorical_features = data.select_dtypes(include=['object']).columns.drop('Cardio_Disease', errors='ignore')\n",
    "\n",
    "for col in categorical_features:\n",
    "    if data[col].nunique() == 2:  # Binary Encoding for Two Unique Values\n",
    "        le = LabelEncoder()\n",
    "        data[col] = le.fit_transform(data[col])\n",
    "    elif data[col].nunique() > 10:  # Binary Encoding for High Cardinality Features\n",
    "        be = BinaryEncoder(cols=[col])\n",
    "        data = be.fit_transform(data)\n",
    "    else:  # One-Hot Encoding for Nominal Features\n",
    "        ohe = OneHotEncoder(drop='first', sparse_output=False)\n",
    "        encoded = pd.DataFrame(ohe.fit_transform(data[[col]]), columns=ohe.get_feature_names_out([col]))\n",
    "        data = pd.concat([data.drop(columns=[col]), encoded], axis=1)\n",
    "\n",
    "# Select Numerical Features and Processed Categorical Features\n",
    "X = data.drop('Cardio_Disease', axis=1, errors='ignore')\n",
    "X_train, X_test, y_train, y_test = train_test_split(X, y, test_size=0.2, random_state=42)\n",
    "# Preprocess Data\n",
    "\n",
    "# from sklearn.preprocessing import LabelEncoder, OneHotEncoder\n",
    "# from category_encoders import BinaryEncoder\n",
    "# import pandas as pd\n",
    "# import numpy as np\n",
    "# from sklearn.model_selection import train_test_split\n",
    "\n",
    "# # Preprocess Data\n",
    "# data.fillna(data.select_dtypes(include=np.number).mean(), inplace=True)\n",
    "# if 'Cardio_Disease' not in data.columns:\n",
    "#     raise KeyError(\"The dataset does not contain the 'Cardio_Disease' column. Please verify the dataset.\")\n",
    "\n",
    "# # Encode Target Variable\n",
    "# y = data['Cardio_Disease'].map({'No': 0, 'Yes': 1})\n",
    "\n",
    "# # Encode Categorical Features\n",
    "# categorical_features = data.select_dtypes(include=['object']).columns.drop('Cardio_Disease', errors='ignore')\n",
    "\n",
    "# for col in categorical_features:\n",
    "#     if data[col].nunique() == 2:  # Binary Encoding for Two Unique Values (e.g., Yes/No)\n",
    "#         le = LabelEncoder()\n",
    "#         data[col] = le.fit_transform(data[col])\n",
    "#     elif data[col].nunique() > 10:  # Binary Encoding for High Cardinality Features\n",
    "#         be = BinaryEncoder(cols=[col])\n",
    "#         data = be.fit_transform(data)\n",
    "#     else:  # One-Hot Encoding for Nominal Features (few categories)\n",
    "#         ohe = OneHotEncoder(drop='first', sparse_output=False)\n",
    "#         encoded = pd.DataFrame(ohe.fit_transform(data[[col]]), columns=ohe.get_feature_names_out([col]))\n",
    "#         data = pd.concat([data.drop(columns=[col]), encoded], axis=1)\n",
    "\n",
    "# # Select Numerical Features and Processed Categorical Features\n",
    "# X = data.drop('Cardio_Disease', axis=1, errors='ignore')\n",
    "\n",
    "# # Split the data into training and test sets\n",
    "# X_train, X_test, y_train, y_test = train_test_split(X, y, test_size=0.2, random_state=42)\n",
    "\n",
    "\n",
    "\n"
   ]
  },
  {
   "cell_type": "code",
   "execution_count": null,
   "id": "68c22dda",
   "metadata": {},
   "outputs": [
    {
     "ename": "AttributeError",
     "evalue": "module 'pandas.api.types' has no attribute 'is_categorical'",
     "output_type": "error",
     "traceback": [
      "\u001b[1;31m---------------------------------------------------------------------------\u001b[0m",
      "\u001b[1;31mAttributeError\u001b[0m                            Traceback (most recent call last)",
      "Cell \u001b[1;32mIn[9], line 25\u001b[0m\n\u001b[0;32m     23\u001b[0m \u001b[38;5;28;01melif\u001b[39;00m data[col]\u001b[38;5;241m.\u001b[39mnunique() \u001b[38;5;241m>\u001b[39m \u001b[38;5;241m10\u001b[39m:  \u001b[38;5;66;03m# Binary Encoding for High Cardinality Features\u001b[39;00m\n\u001b[0;32m     24\u001b[0m     be \u001b[38;5;241m=\u001b[39m BinaryEncoder(cols\u001b[38;5;241m=\u001b[39m[col])\n\u001b[1;32m---> 25\u001b[0m     data \u001b[38;5;241m=\u001b[39m \u001b[43mbe\u001b[49m\u001b[38;5;241;43m.\u001b[39;49m\u001b[43mfit_transform\u001b[49m\u001b[43m(\u001b[49m\u001b[43mdata\u001b[49m\u001b[43m)\u001b[49m\n\u001b[0;32m     26\u001b[0m \u001b[38;5;28;01melse\u001b[39;00m:  \u001b[38;5;66;03m# One-Hot Encoding for Nominal Features\u001b[39;00m\n\u001b[0;32m     27\u001b[0m     ohe \u001b[38;5;241m=\u001b[39m OneHotEncoder(drop\u001b[38;5;241m=\u001b[39m\u001b[38;5;124m'\u001b[39m\u001b[38;5;124mfirst\u001b[39m\u001b[38;5;124m'\u001b[39m, sparse_output\u001b[38;5;241m=\u001b[39m\u001b[38;5;28;01mFalse\u001b[39;00m)\n",
      "File \u001b[1;32mc:\\Users\\emadu\\AppData\\Local\\Programs\\Python\\Python312\\Lib\\site-packages\\sklearn\\utils\\_set_output.py:319\u001b[0m, in \u001b[0;36m_wrap_method_output.<locals>.wrapped\u001b[1;34m(self, X, *args, **kwargs)\u001b[0m\n\u001b[0;32m    317\u001b[0m \u001b[38;5;129m@wraps\u001b[39m(f)\n\u001b[0;32m    318\u001b[0m \u001b[38;5;28;01mdef\u001b[39;00m \u001b[38;5;21mwrapped\u001b[39m(\u001b[38;5;28mself\u001b[39m, X, \u001b[38;5;241m*\u001b[39margs, \u001b[38;5;241m*\u001b[39m\u001b[38;5;241m*\u001b[39mkwargs):\n\u001b[1;32m--> 319\u001b[0m     data_to_wrap \u001b[38;5;241m=\u001b[39m \u001b[43mf\u001b[49m\u001b[43m(\u001b[49m\u001b[38;5;28;43mself\u001b[39;49m\u001b[43m,\u001b[49m\u001b[43m \u001b[49m\u001b[43mX\u001b[49m\u001b[43m,\u001b[49m\u001b[43m \u001b[49m\u001b[38;5;241;43m*\u001b[39;49m\u001b[43margs\u001b[49m\u001b[43m,\u001b[49m\u001b[43m \u001b[49m\u001b[38;5;241;43m*\u001b[39;49m\u001b[38;5;241;43m*\u001b[39;49m\u001b[43mkwargs\u001b[49m\u001b[43m)\u001b[49m\n\u001b[0;32m    320\u001b[0m     \u001b[38;5;28;01mif\u001b[39;00m \u001b[38;5;28misinstance\u001b[39m(data_to_wrap, \u001b[38;5;28mtuple\u001b[39m):\n\u001b[0;32m    321\u001b[0m         \u001b[38;5;66;03m# only wrap the first output for cross decomposition\u001b[39;00m\n\u001b[0;32m    322\u001b[0m         return_tuple \u001b[38;5;241m=\u001b[39m (\n\u001b[0;32m    323\u001b[0m             _wrap_data_with_container(method, data_to_wrap[\u001b[38;5;241m0\u001b[39m], X, \u001b[38;5;28mself\u001b[39m),\n\u001b[0;32m    324\u001b[0m             \u001b[38;5;241m*\u001b[39mdata_to_wrap[\u001b[38;5;241m1\u001b[39m:],\n\u001b[0;32m    325\u001b[0m         )\n",
      "File \u001b[1;32mc:\\Users\\emadu\\AppData\\Local\\Programs\\Python\\Python312\\Lib\\site-packages\\sklearn\\base.py:918\u001b[0m, in \u001b[0;36mTransformerMixin.fit_transform\u001b[1;34m(self, X, y, **fit_params)\u001b[0m\n\u001b[0;32m    903\u001b[0m         warnings\u001b[38;5;241m.\u001b[39mwarn(\n\u001b[0;32m    904\u001b[0m             (\n\u001b[0;32m    905\u001b[0m                 \u001b[38;5;124mf\u001b[39m\u001b[38;5;124m\"\u001b[39m\u001b[38;5;124mThis object (\u001b[39m\u001b[38;5;132;01m{\u001b[39;00m\u001b[38;5;28mself\u001b[39m\u001b[38;5;241m.\u001b[39m\u001b[38;5;18m__class__\u001b[39m\u001b[38;5;241m.\u001b[39m\u001b[38;5;18m__name__\u001b[39m\u001b[38;5;132;01m}\u001b[39;00m\u001b[38;5;124m) has a `transform`\u001b[39m\u001b[38;5;124m\"\u001b[39m\n\u001b[1;32m   (...)\u001b[0m\n\u001b[0;32m    913\u001b[0m             \u001b[38;5;167;01mUserWarning\u001b[39;00m,\n\u001b[0;32m    914\u001b[0m         )\n\u001b[0;32m    916\u001b[0m \u001b[38;5;28;01mif\u001b[39;00m y \u001b[38;5;129;01mis\u001b[39;00m \u001b[38;5;28;01mNone\u001b[39;00m:\n\u001b[0;32m    917\u001b[0m     \u001b[38;5;66;03m# fit method of arity 1 (unsupervised transformation)\u001b[39;00m\n\u001b[1;32m--> 918\u001b[0m     \u001b[38;5;28;01mreturn\u001b[39;00m \u001b[38;5;28;43mself\u001b[39;49m\u001b[38;5;241;43m.\u001b[39;49m\u001b[43mfit\u001b[49m\u001b[43m(\u001b[49m\u001b[43mX\u001b[49m\u001b[43m,\u001b[49m\u001b[43m \u001b[49m\u001b[38;5;241;43m*\u001b[39;49m\u001b[38;5;241;43m*\u001b[39;49m\u001b[43mfit_params\u001b[49m\u001b[43m)\u001b[49m\u001b[38;5;241m.\u001b[39mtransform(X)\n\u001b[0;32m    919\u001b[0m \u001b[38;5;28;01melse\u001b[39;00m:\n\u001b[0;32m    920\u001b[0m     \u001b[38;5;66;03m# fit method of arity 2 (supervised transformation)\u001b[39;00m\n\u001b[0;32m    921\u001b[0m     \u001b[38;5;28;01mreturn\u001b[39;00m \u001b[38;5;28mself\u001b[39m\u001b[38;5;241m.\u001b[39mfit(X, y, \u001b[38;5;241m*\u001b[39m\u001b[38;5;241m*\u001b[39mfit_params)\u001b[38;5;241m.\u001b[39mtransform(X)\n",
      "File \u001b[1;32mc:\\Users\\emadu\\AppData\\Local\\Programs\\Python\\Python312\\Lib\\site-packages\\category_encoders\\binary.py:105\u001b[0m, in \u001b[0;36mBinaryEncoder.fit\u001b[1;34m(self, X, y, **kwargs)\u001b[0m\n\u001b[0;32m     85\u001b[0m \u001b[38;5;28;01mdef\u001b[39;00m \u001b[38;5;21mfit\u001b[39m(\u001b[38;5;28mself\u001b[39m, X, y\u001b[38;5;241m=\u001b[39m\u001b[38;5;28;01mNone\u001b[39;00m, \u001b[38;5;241m*\u001b[39m\u001b[38;5;241m*\u001b[39mkwargs):\n\u001b[0;32m     86\u001b[0m \u001b[38;5;250m    \u001b[39m\u001b[38;5;124;03m\"\"\"Fit encoder according to X and y.\u001b[39;00m\n\u001b[0;32m     87\u001b[0m \n\u001b[0;32m     88\u001b[0m \u001b[38;5;124;03m    Parameters\u001b[39;00m\n\u001b[1;32m   (...)\u001b[0m\n\u001b[0;32m    102\u001b[0m \n\u001b[0;32m    103\u001b[0m \u001b[38;5;124;03m    \"\"\"\u001b[39;00m\n\u001b[1;32m--> 105\u001b[0m     \u001b[38;5;28;43mself\u001b[39;49m\u001b[38;5;241;43m.\u001b[39;49m\u001b[43mbase_n_encoder\u001b[49m\u001b[38;5;241;43m.\u001b[39;49m\u001b[43mfit\u001b[49m\u001b[43m(\u001b[49m\u001b[43mX\u001b[49m\u001b[43m,\u001b[49m\u001b[43m \u001b[49m\u001b[43my\u001b[49m\u001b[43m,\u001b[49m\u001b[43m \u001b[49m\u001b[38;5;241;43m*\u001b[39;49m\u001b[38;5;241;43m*\u001b[39;49m\u001b[43mkwargs\u001b[49m\u001b[43m)\u001b[49m\n\u001b[0;32m    107\u001b[0m     \u001b[38;5;28;01mreturn\u001b[39;00m \u001b[38;5;28mself\u001b[39m\n",
      "File \u001b[1;32mc:\\Users\\emadu\\AppData\\Local\\Programs\\Python\\Python312\\Lib\\site-packages\\category_encoders\\basen.py:125\u001b[0m, in \u001b[0;36mBaseNEncoder.fit\u001b[1;34m(self, X, y, **kwargs)\u001b[0m\n\u001b[0;32m    123\u001b[0m     \u001b[38;5;28mself\u001b[39m\u001b[38;5;241m.\u001b[39mcols \u001b[38;5;241m=\u001b[39m util\u001b[38;5;241m.\u001b[39mget_obj_cols(X)\n\u001b[0;32m    124\u001b[0m \u001b[38;5;28;01melse\u001b[39;00m:\n\u001b[1;32m--> 125\u001b[0m     \u001b[38;5;28mself\u001b[39m\u001b[38;5;241m.\u001b[39mcols \u001b[38;5;241m=\u001b[39m \u001b[43mutil\u001b[49m\u001b[38;5;241;43m.\u001b[39;49m\u001b[43mconvert_cols_to_list\u001b[49m\u001b[43m(\u001b[49m\u001b[38;5;28;43mself\u001b[39;49m\u001b[38;5;241;43m.\u001b[39;49m\u001b[43mcols\u001b[49m\u001b[43m)\u001b[49m\n\u001b[0;32m    127\u001b[0m \u001b[38;5;28;01mif\u001b[39;00m \u001b[38;5;28mself\u001b[39m\u001b[38;5;241m.\u001b[39mhandle_missing \u001b[38;5;241m==\u001b[39m \u001b[38;5;124m'\u001b[39m\u001b[38;5;124merror\u001b[39m\u001b[38;5;124m'\u001b[39m:\n\u001b[0;32m    128\u001b[0m     \u001b[38;5;28;01mif\u001b[39;00m X[\u001b[38;5;28mself\u001b[39m\u001b[38;5;241m.\u001b[39mcols]\u001b[38;5;241m.\u001b[39misnull()\u001b[38;5;241m.\u001b[39many()\u001b[38;5;241m.\u001b[39many():\n",
      "File \u001b[1;32mc:\\Users\\emadu\\AppData\\Local\\Programs\\Python\\Python312\\Lib\\site-packages\\category_encoders\\utils.py:21\u001b[0m, in \u001b[0;36mconvert_cols_to_list\u001b[1;34m(cols)\u001b[0m\n\u001b[0;32m     19\u001b[0m \u001b[38;5;28;01melif\u001b[39;00m \u001b[38;5;28misinstance\u001b[39m(cols, \u001b[38;5;28mtuple\u001b[39m):\n\u001b[0;32m     20\u001b[0m     \u001b[38;5;28;01mreturn\u001b[39;00m \u001b[38;5;28mlist\u001b[39m(cols)\n\u001b[1;32m---> 21\u001b[0m \u001b[38;5;28;01melif\u001b[39;00m \u001b[43mpd\u001b[49m\u001b[38;5;241;43m.\u001b[39;49m\u001b[43mapi\u001b[49m\u001b[38;5;241;43m.\u001b[39;49m\u001b[43mtypes\u001b[49m\u001b[38;5;241;43m.\u001b[39;49m\u001b[43mis_categorical\u001b[49m(cols):\n\u001b[0;32m     22\u001b[0m     \u001b[38;5;28;01mreturn\u001b[39;00m cols\u001b[38;5;241m.\u001b[39mastype(\u001b[38;5;28mobject\u001b[39m)\u001b[38;5;241m.\u001b[39mtolist()\n\u001b[0;32m     24\u001b[0m \u001b[38;5;28;01mreturn\u001b[39;00m cols\n",
      "\u001b[1;31mAttributeError\u001b[0m: module 'pandas.api.types' has no attribute 'is_categorical'"
     ]
    }
   ],
   "source": [
    "# Import necessary libraries\n",
    "import pandas as pd\n",
    "import numpy as np\n",
    "from sklearn.model_selection import train_test_split\n",
    "from sklearn.preprocessing import LabelEncoder, OneHotEncoder\n",
    "from category_encoders import BinaryEncoder\n",
    "\n",
    "# Preprocess Data\n",
    "data.fillna(data.select_dtypes(include=np.number).mean(), inplace=True)\n",
    "if 'Cardio_Disease' not in data.columns:\n",
    "    raise KeyError(\"The dataset does not contain the 'Cardio_Disease' column. Please verify the dataset.\")\n",
    "\n",
    "# Encode Target Variable\n",
    "y = data['Cardio_Disease'].map({'No': 0, 'Yes': 1})\n",
    "\n",
    "# Encode Categorical Features\n",
    "categorical_features = data.select_dtypes(include=['object']).columns.drop('Cardio_Disease', errors='ignore')\n",
    "\n",
    "for col in categorical_features:\n",
    "    if data[col].nunique() == 2:  # Binary Encoding for Two Unique Values\n",
    "        le = LabelEncoder()\n",
    "        data[col] = le.fit_transform(data[col])\n",
    "    elif data[col].nunique() > 10:  # Binary Encoding for High Cardinality Features\n",
    "        be = BinaryEncoder(cols=[col])\n",
    "        data = be.fit_transform(data)\n",
    "    else:  # One-Hot Encoding for Nominal Features\n",
    "        ohe = OneHotEncoder(drop='first', sparse_output=False)\n",
    "        encoded = pd.DataFrame(ohe.fit_transform(data[[col]]), columns=ohe.get_feature_names_out([col]))\n",
    "        data = pd.concat([data.drop(columns=[col]), encoded], axis=1)\n",
    "\n",
    "# Select Numerical Features and Processed Categorical Features\n",
    "X = data.drop('Cardio_Disease', axis=1, errors='ignore')\n",
    "X_train, X_test, y_train, y_test = train_test_split(X, y, test_size=0.2, random_state=42)\n"
   ]
  },
  {
   "cell_type": "markdown",
   "id": "f90e368d-8d20-4ac3-b6c1-352f1efceaff",
   "metadata": {
    "id": "f90e368d-8d20-4ac3-b6c1-352f1efceaff"
   },
   "source": [
    "# Step 4: Define Models"
   ]
  },
  {
   "cell_type": "code",
   "execution_count": null,
   "id": "dc3330de-2372-46bc-bad7-080f9cf712d7",
   "metadata": {
    "id": "dc3330de-2372-46bc-bad7-080f9cf712d7"
   },
   "outputs": [],
   "source": [
    "# Define Base Models\n",
    "base_models = [\n",
    "    ('Random Forest', RandomForestClassifier()),\n",
    "    ('SVM', SVC(probability=True)),\n",
    "    ('Decision Tree', DecisionTreeClassifier()),\n",
    "    ('KNN', KNeighborsClassifier()),\n",
    "    ('XGBoost', XGBClassifier(tree_method='gpu_hist' if device.type == 'cuda' else 'auto')),\n",
    "    ('Gradient Boosting', GradientBoostingClassifier())\n",
    "]\n",
    "\n",
    "# Create an Ensemble Model using Stacking\n",
    "stacking_model = StackingClassifier(estimators=base_models, final_estimator=LogisticRegression())"
   ]
  },
  {
   "cell_type": "markdown",
   "id": "72bcbccb-3e22-4058-a8dc-bfbd5cf90aac",
   "metadata": {
    "id": "72bcbccb-3e22-4058-a8dc-bfbd5cf90aac"
   },
   "source": [
    "# Step 5: Train Models with Epoch-Like Iteration and Progress Bar"
   ]
  },
  {
   "cell_type": "code",
   "execution_count": null,
   "id": "4df9651c-1641-488a-b4c1-453256037f04",
   "metadata": {
    "colab": {
     "base_uri": "https://localhost:8080/"
    },
    "id": "4df9651c-1641-488a-b4c1-453256037f04",
    "outputId": "4d340556-ba66-4c44-9d82-3f70c9bef2e1"
   },
   "outputs": [
    {
     "name": "stdout",
     "output_type": "stream",
     "text": [
      "Training Stacking Model...\n"
     ]
    }
   ],
   "source": [
    "# Train Stacking Model\n",
    "print(\"Training Stacking Model...\")\n",
    "stacking_model.fit(X_train, y_train)\n",
    "train_score = stacking_model.score(X_train, y_train)\n",
    "val_score = stacking_model.score(X_test, y_test)\n",
    "print(f\"Stacking Model Train Accuracy: {train_score:.4f}, Validation Accuracy: {val_score:.4f}\")"
   ]
  },
  {
   "cell_type": "markdown",
   "id": "88d5a7e1-ef1c-483c-a503-ff3a412d1cc8",
   "metadata": {
    "id": "88d5a7e1-ef1c-483c-a503-ff3a412d1cc8"
   },
   "source": [
    "# Train Stacking Model with Epochs"
   ]
  },
  {
   "cell_type": "code",
   "execution_count": null,
   "id": "b09a0812-37db-4f0d-827f-23804aa0e0c6",
   "metadata": {
    "id": "b09a0812-37db-4f0d-827f-23804aa0e0c6"
   },
   "outputs": [],
   "source": [
    "# Train Stacking Model with Epochs\n",
    "epochs = 10\n",
    "history = {'epoch': [], 'train_accuracy': [], 'val_accuracy': []}\n",
    "\n",
    "print(\"Training Stacking Model...\")\n",
    "for epoch in range(1, epochs + 1):\n",
    "    stacking_model.fit(X_train, y_train)\n",
    "    train_score = stacking_model.score(X_train, y_train)\n",
    "    val_score = stacking_model.score(X_test, y_test)\n",
    "    history['epoch'].append(epoch)\n",
    "    history['train_accuracy'].append(train_score)\n",
    "    history['val_accuracy'].append(val_score)\n",
    "    print(f\"Epoch {epoch}: Train Accuracy = {train_score:.4f}, Validation Accuracy = {val_score:.4f}\")\n"
   ]
  }
 ],
 "metadata": {
  "accelerator": "TPU",
  "colab": {
   "gpuType": "V28",
   "provenance": []
  },
  "kernelspec": {
   "display_name": "Python 3",
   "language": "python",
   "name": "python3"
  },
  "language_info": {
   "codemirror_mode": {
    "name": "ipython",
    "version": 3
   },
   "file_extension": ".py",
   "mimetype": "text/x-python",
   "name": "python",
   "nbconvert_exporter": "python",
   "pygments_lexer": "ipython3",
   "version": "3.12.9"
  }
 },
 "nbformat": 4,
 "nbformat_minor": 5
}
