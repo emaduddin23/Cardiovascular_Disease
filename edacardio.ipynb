{
 "cells": [
  {
   "cell_type": "code",
   "execution_count": 1,
   "metadata": {},
   "outputs": [],
   "source": [
    "import pandas as pd\n",
    "from ydata_profiling import ProfileReport\n",
    "\n",
    "df = pd.read_csv('CVD_dataset.csv')\n",
    "profile = ProfileReport(df, title=\"Cardiovascular Dataset Overview Report\")"
   ]
  },
  {
   "cell_type": "code",
   "execution_count": 2,
   "metadata": {},
   "outputs": [
    {
     "data": {
      "application/vnd.jupyter.widget-view+json": {
       "model_id": "9020db9757844a5e9693ede88fdbeeec",
       "version_major": 2,
       "version_minor": 0
      },
      "text/plain": [
       "Summarize dataset:   0%|          | 0/5 [00:00<?, ?it/s]"
      ]
     },
     "metadata": {},
     "output_type": "display_data"
    },
    {
     "data": {
      "application/vnd.jupyter.widget-view+json": {
       "model_id": "18f08d821a5b41a3aaa90619f7ab9048",
       "version_major": 2,
       "version_minor": 0
      },
      "text/plain": [
       "Generate report structure:   0%|          | 0/1 [00:00<?, ?it/s]"
      ]
     },
     "metadata": {},
     "output_type": "display_data"
    },
    {
     "data": {
      "application/vnd.jupyter.widget-view+json": {
       "model_id": "3a80610d84514397b8cfcf165d4b72c8",
       "version_major": 2,
       "version_minor": 0
      },
      "text/plain": [
       "Render HTML:   0%|          | 0/1 [00:00<?, ?it/s]"
      ]
     },
     "metadata": {},
     "output_type": "display_data"
    },
    {
     "data": {
      "application/vnd.jupyter.widget-view+json": {
       "model_id": "038cf89a570e41b9812eeab4fa4c9ace",
       "version_major": 2,
       "version_minor": 0
      },
      "text/plain": [
       "Export report to file:   0%|          | 0/1 [00:00<?, ?it/s]"
      ]
     },
     "metadata": {},
     "output_type": "display_data"
    }
   ],
   "source": [
    "# Save the report to an HTML file\n",
    "profile.to_file(\"Cardio.html\")"
   ]
  },
  {
   "cell_type": "code",
   "execution_count": 3,
   "metadata": {},
   "outputs": [],
   "source": [
    "import warnings\n",
    "warnings.filterwarnings('ignore')\n",
    "\n",
    "from sklearn.preprocessing import LabelEncoder\n",
    "encoder = LabelEncoder()\n",
    "\n",
    "\n",
    "data_without_duplicates = df.drop_duplicates(keep='first') # delete duplicate values and keep the first one\n",
    "y = data_without_duplicates['Cardio_Disease']\n",
    "\n",
    "\n",
    "for col in data_without_duplicates.columns:\n",
    "    if data_without_duplicates[col].dtype == 'object':\n",
    "        data_without_duplicates[col] = encoder.fit_transform(data_without_duplicates[col])\n",
    "\n",
    "if data_without_duplicates.isnull().sum().any():\n",
    "    print(\"There are missing values. Handle them before proceeding.\")\n",
    "    data_without_duplicates = data_without_duplicates.fillna(method='ffill')"
   ]
  },
  {
   "cell_type": "code",
   "execution_count": 4,
   "metadata": {},
   "outputs": [
    {
     "name": "stdout",
     "output_type": "stream",
     "text": [
      "Cardio_Disease\n",
      "No     283103\n",
      "Yes    226482\n",
      "Name: count, dtype: int64\n"
     ]
    }
   ],
   "source": [
    "from imblearn.over_sampling import SMOTE\n",
    "import pandas as pd\n",
    "\n",
    "# Apply SMOTE\n",
    "smote = SMOTE(sampling_strategy=0.8, random_state=42) \n",
    "X_resampled, y_resampled = smote.fit_resample(data_without_duplicates, y)\n",
    "\n",
    "# Combine the resampled features and target back into a DataFrame\n",
    "df_resampled = pd.DataFrame(X_resampled, columns=data_without_duplicates.columns)\n",
    "df_resampled['Cardio_Disease'] = y_resampled\n",
    "\n",
    "print(pd.Series(y_resampled).value_counts())\n"
   ]
  },
  {
   "cell_type": "code",
   "execution_count": 5,
   "metadata": {},
   "outputs": [
    {
     "data": {
      "application/vnd.jupyter.widget-view+json": {
       "model_id": "ccefeaeaf523452c8fb4eab16477b650",
       "version_major": 2,
       "version_minor": 0
      },
      "text/plain": [
       "Summarize dataset:   0%|          | 0/5 [00:00<?, ?it/s]"
      ]
     },
     "metadata": {},
     "output_type": "display_data"
    },
    {
     "data": {
      "application/vnd.jupyter.widget-view+json": {
       "model_id": "bf875c76567041b3a546d75988b2f32c",
       "version_major": 2,
       "version_minor": 0
      },
      "text/plain": [
       "Generate report structure:   0%|          | 0/1 [00:00<?, ?it/s]"
      ]
     },
     "metadata": {},
     "output_type": "display_data"
    },
    {
     "data": {
      "application/vnd.jupyter.widget-view+json": {
       "model_id": "0f89669de9f14fe4ad1c9bbbf51e1835",
       "version_major": 2,
       "version_minor": 0
      },
      "text/plain": [
       "Render HTML:   0%|          | 0/1 [00:00<?, ?it/s]"
      ]
     },
     "metadata": {},
     "output_type": "display_data"
    },
    {
     "data": {
      "application/vnd.jupyter.widget-view+json": {
       "model_id": "07b05958a81b4beaa1ebe964d30743a0",
       "version_major": 2,
       "version_minor": 0
      },
      "text/plain": [
       "Export report to file:   0%|          | 0/1 [00:00<?, ?it/s]"
      ]
     },
     "metadata": {},
     "output_type": "display_data"
    }
   ],
   "source": [
    "from pandas_profiling import ProfileReport\n",
    "\n",
    "# Generate the profile report\n",
    "profile = ProfileReport(df_resampled, title=\"Balanced Dataset After SMOTE\", explorative=True)\n",
    "\n",
    "# Save the report to an HTML file\n",
    "profile.to_file(\"balanced_dataset_smote_report.html\")\n",
    "\n",
    "# If you are using Jupyter Notebooks, you can view it inline\n",
    "# profile.to_notebook_iframe()\n"
   ]
  },
  {
   "cell_type": "markdown",
   "metadata": {},
   "source": [
    "## Feature Selection "
   ]
  },
  {
   "cell_type": "code",
   "execution_count": null,
   "metadata": {},
   "outputs": [],
   "source": [
    "extended_features = [f for f in data.columns if f != TARGET]"
   ]
  },
  {
   "cell_type": "code",
   "execution_count": null,
   "metadata": {},
   "outputs": [],
   "source": [
    "numerical_features = [\n",
    "    'Age_Category', \n",
    "    'Height', \n",
    "    'Weight', \n",
    "    'BMI', \n",
    "    'Alcohol_Consumption', \n",
    "    'Fruit_Consumption',\n",
    "    'Green_Vegetables_Consumption',\n",
    "    'FriedPotato_Consumption',\n",
    "    'good_habits',\n",
    "    'bad_habits',\n",
    "    'comorbities',\n",
    "    'health_status'\n",
    "]\n",
    "\n",
    "categorical_features = [f for f in extended_features if f not in numerical_features]"
   ]
  },
  {
   "cell_type": "code",
   "execution_count": null,
   "metadata": {},
   "outputs": [],
   "source": []
  },
  {
   "cell_type": "markdown",
   "metadata": {},
   "source": [
    "## Corelation"
   ]
  },
  {
   "cell_type": "code",
   "execution_count": 1,
   "metadata": {},
   "outputs": [],
   "source": [
    "import matplotlib.pyplot as plt\n",
    "import seaborn as sns\n",
    "\n",
    "def plot_heatmap(df, size=14):\n",
    "    plt.figure(figsize=(size, size * 0.75))\n",
    "    sns.heatmap(\n",
    "        data=df, \n",
    "        mask=np.triu(np.ones_like(df)),\n",
    "        vmin=-1, vmax=1, center=0,\n",
    "        annot=True, linewidths=0.1,\n",
    "        fmt='.2f', annot_kws={'fontsize': 8})\n",
    "    plt.show()"
   ]
  }
 ],
 "metadata": {
  "kernelspec": {
   "display_name": "Python 3",
   "language": "python",
   "name": "python3"
  },
  "language_info": {
   "codemirror_mode": {
    "name": "ipython",
    "version": 3
   },
   "file_extension": ".py",
   "mimetype": "text/x-python",
   "name": "python",
   "nbconvert_exporter": "python",
   "pygments_lexer": "ipython3",
   "version": "3.12.9"
  }
 },
 "nbformat": 4,
 "nbformat_minor": 2
}
